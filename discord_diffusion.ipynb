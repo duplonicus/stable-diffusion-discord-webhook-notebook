{
  "cells": [
    {
      "cell_type": "markdown",
      "metadata": {
        "id": "7SLd07yKM0x5"
      },
      "source": [
        "**Text to image generation with Stable Diffusion and Discord webhook integration**\n",
        "\n",
        "*1. Click the first play button to install dependencies*\n",
        "\n",
        "*2. Click the second play button after pasting in your Discord webhook URL*\n",
        "\n",
        "*3. Click the third play button and the UI will appear below*\n",
        "\n",
        "Prompt crafting ideas: https://lexica.art/"
      ]
    },
    {
      "cell_type": "code",
      "execution_count": null,
      "metadata": {
        "id": "TvkIdlt3kgew"
      },
      "outputs": [],
      "source": [
        "!pip install transformers gradio scipy ftfy \"ipywidgets>=7,<8\" datasets diffusers\n",
        "!pip install discord discord-webhook\n",
        "!mkdir images"
      ]
    },
    {
      "cell_type": "code",
      "execution_count": null,
      "metadata": {
        "id": "9AVMARkAhbcs"
      },
      "outputs": [],
      "source": [
        "# Paste in your Discord webhook URL (Edit Channel > Integrations > Webhooks)\n",
        "WEBHOOK_URL = \"https://discord.com/api/webhooks/example/webhook_URL\""
      ]
    },
    {
      "cell_type": "code",
      "execution_count": null,
      "metadata": {
        "id": "1HaCauSq546O"
      },
      "outputs": [],
      "source": [
        "from gradio.components import Slider\n",
        "import gradio as gr\n",
        "import torch\n",
        "from torch import autocast\n",
        "from diffusers import StableDiffusionPipeline\n",
        "import discord\n",
        "from discord_webhook import DiscordWebhook, DiscordEmbed\n",
        "from PIL import Image\n",
        "\n",
        "# Uncomment the model you wish to use, original (CompVis) or anime (hakurei)\n",
        "#model_id = \"CompVis/stable-diffusion-v1-4\"\n",
        "model_id = \"hakurei/waifu-diffusion\"\n",
        "device = \"cuda\"\n",
        "\n",
        "# Diffusion pipeline object\n",
        "pipe = StableDiffusionPipeline.from_pretrained(model_id, torch_dtype=torch.float16, revision='fp16')\n",
        "pipe = pipe.to(device)\n",
        "\n",
        "# Gradio block\n",
        "block = gr.Blocks(css=\".container { max-width: 1200px; margin: auto; }\")\n",
        "\n",
        "# Enable Discord webhook\n",
        "discord = True\n",
        "\n",
        "# Main image generation function, added second parameter for num_samples for slider\n",
        "def infer(prompt, num_samples, cfg_slider):\n",
        "    with autocast(\"cuda\"):\n",
        "        images = pipe([prompt] * num_samples, guidance_scale=cfg_slider)[\"sample\"]\n",
        "        # Discord stuff\n",
        "        webhook = DiscordWebhook(url=WEBHOOK_URL)\n",
        "        i = 1\n",
        "        for image in images:\n",
        "            prompt = prompt.replace(\"'\",\"\").replace('\"','')\n",
        "            image.save(fp=f\"images/{prompt}-{i}.png\", format=\"PNG\")\n",
        "            if discord:\n",
        "                embed = DiscordEmbed(title='', description=prompt, color='03b2f8')            \n",
        "                with open(f\"images/{prompt}-{i}.png\", \"rb\") as f:\n",
        "                    webhook.add_file(file=f.read(), filename=f\"images/{prompt}-{i}.png\")\n",
        "                embed.set_thumbnail(url=f'attachment://images/{prompt}-{i}.png')\n",
        "            i += 1\n",
        "        if discord:\n",
        "            webhook.add_embed(embed)\n",
        "            response = webhook.execute()\n",
        "    return images\n",
        "\n",
        "# Disable NSFW check\n",
        "def dummy(images, **kwargs):\n",
        "    return images, False\n",
        "pipe.safety_checker = dummy\n",
        "\n",
        "# Gradio app\n",
        "with block as demo:\n",
        "    gr.Markdown(\"<h1><center>Waifu Diffusion</center></h1>\")\n",
        "    gr.Markdown(\n",
        "        \"waifu-diffusion is a latent text-to-image diffusion model that has been conditioned on high-quality anime images through fine-tuning.\"\n",
        "    )\n",
        "    with gr.Group():\n",
        "        with gr.Box():\n",
        "            with gr.Row().style(mobile_collapse=False, equal_height=False):\n",
        "\n",
        "                text = gr.Textbox(\n",
        "                    label=\"Enter your prompt\", show_label=False, max_lines=1, placeholder=\"Example: Your idea, an art style or artist, more detail\"\n",
        "                ).style(\n",
        "                    border=(True, False, True, True),\n",
        "                    rounded=(True, False, False, True),\n",
        "                    container=False\n",
        "                )\n",
        "                btn = gr.Button(\"Run\").style(\n",
        "                    margin=False,\n",
        "                    rounded=(False, True, True, False)\n",
        "                )\n",
        "            # Add slider for num_samples\n",
        "            with gr.Row().style(mobile_collapse=False, equal_height=False):                \n",
        "                samples_slider = gr.Slider(1, 3, 2, label=\"Number of Samples\", step=1)\n",
        "            # Add slider for cfg scale\n",
        "            with gr.Row().style(mobile_collapse=False, equal_height=False):                \n",
        "                cfg_slider = gr.Slider(5, 15, 7.5, label=\"Enforce prompt accuracy\", step=0.5)               \n",
        "        gallery = gr.Gallery(label=\"Generated images\", show_label=False).style(\n",
        "            grid=[3], height=\"auto\"\n",
        "        )\n",
        "        text.submit(infer, inputs=[text, samples_slider, cfg_slider], outputs=gallery)\n",
        "        btn.click(infer, inputs=[text, samples_slider, cfg_slider], outputs=gallery)\n",
        "    gr.Markdown(\n",
        "        \"\"\"___\n",
        "   <p style='text-align: center'>\n",
        "   Created by https://huggingface.co/hakurei\n",
        "   <br/>\n",
        "   Modified by duplonicus\n",
        "   <br/>\n",
        "   </p>\"\"\"\n",
        "    )\n",
        "\n",
        "demo.launch(debug=True)"
      ]
    },
    {
      "cell_type": "code",
      "execution_count": null,
      "metadata": {
        "id": "GRlVtlNS5_jr"
      },
      "outputs": [],
      "source": []
    }
  ],
  "metadata": {
    "accelerator": "GPU",
    "colab": {
      "collapsed_sections": [],
      "provenance": []
    },
    "gpuClass": "standard",
    "kernelspec": {
      "display_name": "Python 3",
      "name": "python3"
    },
    "language_info": {
      "name": "python"
    }
  },
  "nbformat": 4,
  "nbformat_minor": 0
}
